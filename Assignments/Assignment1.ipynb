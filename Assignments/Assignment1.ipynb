{
 "cells": [
  {
   "cell_type": "markdown",
   "metadata": {},
   "source": [
    "## Assignment Part-1\n",
    "\n",
    "Q1. Why do we call Python as a general purpose and high-level programming language?\n",
    "\n",
    "Q2. Why is Python called a dynamically typed language?\n",
    "\n",
    "Q3. List some pros and cons of Python programming language?\n",
    "\n",
    "Q4. In what all domains can we use Python?\n",
    "\n",
    "Q5. What are variable and how can we declare them?\n",
    "\n",
    "Q6. How can we take an input from the user in Python?\n",
    "\n",
    "Q7. What is the default datatype of the value that has been taken as an input using input() function?\n",
    "\n",
    "Q8. What is type casting?\n",
    "\n",
    "Q9. Can we take more than one input from the user using single input() function? If yes, how? If no, why?\n",
    "\n",
    "Q10. What are keywords?\n",
    "\n",
    "Q11. Can we use keywords as a variable? Support your answer with reason.\n",
    "\n",
    "Q12. What is indentation? What's the use of indentaion in Python?\n",
    "\n",
    "Q13. How can we throw some output in Python?\n",
    "\n",
    "Q14. What are operators in Python?\n",
    "\n",
    "Q15. What is difference between / and // operators?"
   ]
  },
  {
   "cell_type": "markdown",
   "metadata": {},
   "source": [
    "Q16. Write a code that gives following as an output.\n",
    "```\n",
    "iNeuroniNeuroniNeuroniNeuron\n",
    "```"
   ]
  },
  {
   "cell_type": "code",
   "execution_count": null,
   "metadata": {},
   "outputs": [],
   "source": [
    "# Code that gives following as an output\n",
    "# iNeuroniNeuroniNeuroniNeuron\n",
    "\n",
    "string = \"iNeuron\";\n",
    "counter = 0;\n",
    "\n",
    "# By default end line character is added at the end of print()\n",
    "# Here we are replacing the end line character with empty string\n",
    "while(counter < 4):\n",
    "    print(string, end=\"\");\n",
    "    counter = counter + 1;"
   ]
  },
  {
   "cell_type": "markdown",
   "metadata": {},
   "source": [
    "Q17. Write a code to take a number as an input from the user and check if the number is odd or even."
   ]
  },
  {
   "cell_type": "code",
   "execution_count": null,
   "metadata": {},
   "outputs": [],
   "source": [
    "# Program to check if a number is even or odd\n",
    "\n",
    "number = input(\"Enter a number - \");\n",
    "\n",
    "# By default input() always accept 'String' values\n",
    "# type() will give datatype\n",
    "datatype = type(number);\n",
    "print(\"Data type is \", datatype);\n",
    "\n",
    "# int() is used to typecast into integer\n",
    "if int(number) % 2 == 0:\n",
    "    print(\"Number is even\");\n",
    "else:\n",
    "    print(\"Number is odd\");"
   ]
  },
  {
   "cell_type": "markdown",
   "metadata": {},
   "source": [
    "Q18. What are boolean operator?\n",
    "\n",
    "Q19. What will the output of the following?\n",
    "```\n",
    "1 or 0\n",
    "\n",
    "0 and 0\n",
    "\n",
    "True and False and True\n",
    "\n",
    "1 or 0 or 0\n",
    "```\n",
    "Q20. What are conditional statements in Python?\n",
    "\n",
    "Q21. What is use of 'if', 'elif' and 'else' keywords?\n",
    "\n",
    "Q22. Write a code to take the age of person as an input and if age >= 18 display \"I can vote\". If age is < 18 display \"I can't vote\"."
   ]
  },
  {
   "cell_type": "code",
   "execution_count": null,
   "metadata": {},
   "outputs": [],
   "source": [
    "# Code to accept the age of a person as an input. \n",
    "# If age >= 18 display \"I can vote\" and if age is < 18 display \"I can't vote\".\n",
    "\n",
    "ageStr = input(\"Enter person's age - \");\n",
    "# ageStr is String value, age is int value\n",
    "age = int(ageStr);\n",
    "\n",
    "if(age >= 18):\n",
    "    print(\"I can vote\");\n",
    "else:\n",
    "    print(\"I can't vote\");"
   ]
  },
  {
   "cell_type": "markdown",
   "metadata": {},
   "source": [
    "Q23. Write a code that displays the sum of all the even numbers from the given list.\n",
    "```\n",
    "numbers = [12, 75, 150, 180, 145, 525, 50]\n",
    "```"
   ]
  },
  {
   "cell_type": "code",
   "execution_count": null,
   "metadata": {},
   "outputs": [],
   "source": [
    "# Code that displays the sum of all the even numbers from the given list\n",
    "\n",
    "numberList = [12, 75, 150, 180, 145, 525, 50];\n",
    "sumOfEvenNumbers = 0;\n",
    "\n",
    "# for loop to traverse the list\n",
    "# for i in numberList:\n",
    "#    print(i);\n",
    "\n",
    "# Logic to check traverse the list, check if particular number is even and then add even numbers\n",
    "for number in numberList:\n",
    "    if(number % 2 == 0):\n",
    "        sumOfEvenNumbers = sumOfEvenNumbers + number;\n",
    "\n",
    "print(\"Sum of even numbers from the list is - \", sumOfEvenNumbers);"
   ]
  },
  {
   "cell_type": "markdown",
   "metadata": {},
   "source": [
    "Q24. Write a code to take 3 numbers as an input from the user and display the greatest no as output."
   ]
  },
  {
   "cell_type": "code",
   "execution_count": null,
   "metadata": {},
   "outputs": [],
   "source": [
    "# Code to take 3 numbers as an input from the user and display the greatest no as output.\n",
    "\n",
    "# These statements will accept the input from user and also typecast it into integer\n",
    "number1 = int(input(\"Enter the first number - \"));\n",
    "number2 = int(input(\"Enter the second number - \"));\n",
    "number3 = int(input(\"Enter the third number - \"));\n",
    "\n",
    "# Logic to check greatest of three numbers\n",
    "if((number1 > number2) & (number1 > number3)):\n",
    "    print(\"Greatest number is - \", number1);\n",
    "elif((number2 > number3) & (number2 > number1)):\n",
    "    print(\"Greatest number is - \", number2);\n",
    "else:\n",
    "    print(\"Greatest number is - \", number3);"
   ]
  },
  {
   "cell_type": "markdown",
   "metadata": {},
   "source": [
    "Q25. Write a program to display only those numbers from a list that satisfy the following conditions\n",
    "\n",
    "- The number must be divisible by five\n",
    "\n",
    "- If the number is greater than 150, then skip it and move to the next number\n",
    "\n",
    "- If the number is greater than 500, then stop the loop\n",
    "```\n",
    "numbers = [12, 75, 150, 180, 145, 525, 50]\n",
    "```"
   ]
  },
  {
   "cell_type": "code",
   "execution_count": null,
   "metadata": {},
   "outputs": [],
   "source": [
    "# Write a program to display only those numbers from a list that satisfy the following conditions\n",
    "# - The number must be divisible by five\n",
    "# - If the number is greater than 150, then skip it and move to the next number\n",
    "# - If the number is greater than 500, then stop the loop\n",
    "\n",
    "numberList = [12, 75, 150, 180, 145, 525, 50];\n",
    "\n",
    "# for loop will iterate through the list\n",
    "for number in numberList:\n",
    "    # if the number is greater than 500 break the loop\n",
    "    if(number > 500):\n",
    "        break;\n",
    "    # if the number is greater than 150 then skip to next element\n",
    "    elif(number > 150):\n",
    "        continue;\n",
    "    # if the number is less than 150 and divisible by 5, print the number\n",
    "    elif (number % 5 == 0):\n",
    "        print(number);"
   ]
  }
 ],
 "metadata": {
  "kernelspec": {
   "display_name": "Python 3.8.5 64-bit",
   "language": "python",
   "name": "python3"
  },
  "language_info": {
   "name": "python",
   "version": "3.8.5"
  },
  "orig_nbformat": 4,
  "vscode": {
   "interpreter": {
    "hash": "af01123c143ab9add1525dbf0a3bfb77c009eb88bf0884ad24961f6edcaaa3f2"
   }
  }
 },
 "nbformat": 4,
 "nbformat_minor": 2
}
